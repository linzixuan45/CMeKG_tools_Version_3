{
 "cells": [
  {
   "cell_type": "code",
   "execution_count": 24,
   "metadata": {
    "collapsed": true,
    "jupyter": {
     "outputs_hidden": true
    }
   },
   "outputs": [],
   "source": [
    "import pandas as pd\n",
    "import glob\n",
    "import json\n",
    "import numpy as np\n",
    "from  tqdm import tqdm, trange"
   ]
  },
  {
   "cell_type": "code",
   "execution_count": 44,
   "metadata": {
    "collapsed": false,
    "jupyter": {
     "outputs_hidden": false
    }
   },
   "outputs": [],
   "source": [
    "def label_BMEO(text,label_index):\n",
    "    \"\"\"\n",
    "\n",
    "    Args:\n",
    "        text: 列表形式的文字  例如：['腺', '样', '体', '肥', '大', '是', '临', '床']\n",
    "        label_index: 标签对应的下标位置 [[1,3],[2,5]]  # 最后一个不要\n",
    "    Returns:\n",
    "\n",
    "    \"\"\"\n",
    "    label  = np.zeros(len(text),dtype=np.int8).tolist()\n",
    "    for index in range(len(text)):\n",
    "        for label_index_period in label_index:\n",
    "            if index in range(label_index_period[0], label_index_period[1]):\n",
    "                label[index] = 1\n",
    "    text = pd.Series(text)\n",
    "    label = pd.Series(label)\n",
    "    new_pd = pd.DataFrame([text, label]).T\n",
    "    new_pd.columns = ['text','label']\n",
    "    new_pd.reset_index(inplace=True,drop=True)\n",
    "    labels = new_pd['label'].values\n",
    "    label_BMEO = []\n",
    "    for i in range(len(labels)):\n",
    "        three_values  = labels[i-1:i+2].tolist()\n",
    "        if len(three_values) == 0:\n",
    "            three_values = [0,labels[i],labels[i+1]]\n",
    "        if three_values == [0,1,1]:\n",
    "            label_BMEO.append('s-B')\n",
    "        elif three_values == [1,1,1]:\n",
    "            label_BMEO.append('s-M')\n",
    "        elif three_values == [1,1,0]:\n",
    "            label_BMEO.append('s-E')\n",
    "        else:\n",
    "            label_BMEO.append('o')\n",
    "    new_pd['label_BMEO'] = pd.Series(label_BMEO)\n",
    "    new_pd = new_pd[['text','label_BMEO']]\n",
    "    return new_pd['text'].values, new_pd['label_BMEO']\n",
    "\n",
    "def CMedCausal_pd(data_ls_i):\n",
    "    text = list(data_ls_i['text'])\n",
    "    label_index = []\n",
    "    for value in data_ls_i['relation_of_mention']:\n",
    "        try:\n",
    "            temp = value['tail']\n",
    "            label_index.append([temp['start_idx'],temp['end_idx']])\n",
    "        except:\n",
    "            temp = value['tail']['tail']\n",
    "            label_index.append([temp['start_idx'],temp['end_idx']])\n",
    "\n",
    "    return label_BMEO(text,label_index)\n",
    "\n",
    "def save_pandas_file(file_train,pandas_file_name='CMedCausal'):\n",
    "    file_train.columns = ['text','label_BMEO']\n",
    "    out_train = file_train[:int(len(file_train)*0.95)]\n",
    "    out_dev = file_train[int(len(file_train)*0.95):int(len(file_train) * 0.99)]\n",
    "    out_test = file_train[int(len(file_train)*0.99):]\n",
    "    out_train.to_csv(f'dataset/data_train_test_dev/train_{pandas_file_name}_bmeo.csv',index=False)\n",
    "    out_dev.to_csv(f'dataset/data_train_test_dev/dev_{pandas_file_name}_bmeo.csv',index=False)\n",
    "    out_test.to_csv(f'dataset/data_train_test_dev/test_{pandas_file_name}_bmeo.csv',index=False)\n",
    "def index_to_text(text, index_ls):\n",
    "    for value in index_ls:\n",
    "        print(text[value[0]: value[1]])"
   ]
  },
  {
   "cell_type": "code",
   "execution_count": 26,
   "metadata": {
    "collapsed": false,
    "jupyter": {
     "outputs_hidden": false
    }
   },
   "outputs": [
    {
     "name": "stdout",
     "output_type": "stream",
     "text": [
      "dataset/医疗实体识别能用的数据/CMedCausal/CMedCausal_train.json\n",
      "dataset/医疗实体识别能用的数据/CMedCausal/CMedCausal_dev.json\n"
     ]
    }
   ],
   "source": [
    "data_ls = []\n",
    "file_path = \"dataset/医疗实体识别能用的数据/CMedCausal/CMedCausal_train.json\"\n",
    "for value in ['train','dev']:\n",
    "    temp_path = file_path.split('_')\n",
    "    temp_path_str = temp_path[0]+'_'+value+'.json'\n",
    "    print(temp_path_str)\n",
    "    with open(file_path, 'r', encoding='utf-8') as f:\n",
    "        temp_data = json.load(f)\n",
    "        data_ls.extend(temp_data)"
   ]
  },
  {
   "cell_type": "code",
   "execution_count": 27,
   "metadata": {
    "collapsed": false,
    "jupyter": {
     "outputs_hidden": false
    }
   },
   "outputs": [
    {
     "name": "stderr",
     "output_type": "stream",
     "text": [
      "100%|██████████| 1600/1600 [00:10<00:00, 146.88it/s]\n"
     ]
    }
   ],
   "source": [
    "text_ls, label_index_ls = [],[]\n",
    "for i in trange(len(data_ls)):\n",
    "    text,label_index = CMedCausal_pd(data_ls[i])\n",
    "    text_ls.append(\"\".join(text.tolist()))\n",
    "    label_index_ls.append(\"\\t\".join(label_index.tolist()))\n",
    "CMedCausal_pd_file = pd.DataFrame([text_ls, label_index_ls]).T\n",
    "# save_pandas_file(CMedCausal_pd_file,'CMedCausal')\n",
    "CMedCausal_pd_file.columns = ['text','label_BMEO']"
   ]
  },
  {
   "cell_type": "code",
   "execution_count": 28,
   "metadata": {
    "collapsed": false,
    "jupyter": {
     "outputs_hidden": false
    }
   },
   "outputs": [],
   "source": [
    "save_pandas_file(CMedCausal_pd_file,'CMedCausal')"
   ]
  },
  {
   "cell_type": "markdown",
   "metadata": {},
   "source": [
    "。“临床表现”（tag为sym）\n",
    "实体分为症状（tag为sym|sym-sd）和体征（tag为sym|sym-sn）三个子类."
   ]
  },
  {
   "cell_type": "code",
   "execution_count": 29,
   "metadata": {
    "collapsed": false,
    "jupyter": {
     "outputs_hidden": false
    }
   },
   "outputs": [
    {
     "name": "stdout",
     "output_type": "stream",
     "text": [
      "dataset/医疗实体识别能用的数据/CMeEE/CMeEE_train.json\n",
      "dataset/医疗实体识别能用的数据/CMeEE/CMeEE_dev.json\n"
     ]
    }
   ],
   "source": [
    "data_ls = []\n",
    "file_path = \"dataset/医疗实体识别能用的数据/CMeEE/CMeEE_train.json\"\n",
    "for value in ['train','dev']:\n",
    "    temp_path = file_path.split('_')\n",
    "    temp_path_str = temp_path[0]+'_'+value+'.json'\n",
    "    print(temp_path_str)\n",
    "    with open(file_path, 'r', encoding='utf-8') as f:\n",
    "        temp_data = json.load(f)\n",
    "        data_ls.extend(temp_data)\n"
   ]
  },
  {
   "cell_type": "code",
   "execution_count": 54,
   "metadata": {
    "collapsed": false,
    "jupyter": {
     "outputs_hidden": false
    }
   },
   "outputs": [
    {
     "name": "stderr",
     "output_type": "stream",
     "text": [
      "100%|██████████| 30000/30000 [01:05<00:00, 455.66it/s]\n"
     ]
    }
   ],
   "source": [
    "text_ls, label_index_ls = [],[]\n",
    "\n",
    "for data_ls_i in tqdm(data_ls):\n",
    "    text = data_ls_i['text']\n",
    "    label_index = []\n",
    "    for dict_value in data_ls_i['entities']:\n",
    "        if dict_value['type'] == 'sym':\n",
    "            label_index.append([dict_value['start_idx'], dict_value['end_idx']])\n",
    "    label_index = [[value[0], value[1]+1] for value in label_index]\n",
    "    # index_to_text(text, label_index)\n",
    "    text = list(text)\n",
    "    text, label_index = label_BMEO(text, label_index)\n",
    "    text_ls.append(\"\".join(text.tolist()))\n",
    "    label_index_ls.append(\"\\t\".join(label_index.tolist()))"
   ]
  },
  {
   "cell_type": "code",
   "execution_count": 61,
   "metadata": {
    "collapsed": false,
    "jupyter": {
     "outputs_hidden": false
    }
   },
   "outputs": [
    {
     "data": {
      "text/html": [
       "<div>\n",
       "<style scoped>\n",
       "    .dataframe tbody tr th:only-of-type {\n",
       "        vertical-align: middle;\n",
       "    }\n",
       "\n",
       "    .dataframe tbody tr th {\n",
       "        vertical-align: top;\n",
       "    }\n",
       "\n",
       "    .dataframe thead th {\n",
       "        text-align: right;\n",
       "    }\n",
       "</style>\n",
       "<table border=\"1\" class=\"dataframe\">\n",
       "  <thead>\n",
       "    <tr style=\"text-align: right;\">\n",
       "      <th></th>\n",
       "      <th>0</th>\n",
       "      <th>1</th>\n",
       "    </tr>\n",
       "  </thead>\n",
       "  <tbody>\n",
       "    <tr>\n",
       "      <th>0</th>\n",
       "      <td>（5）房室结消融和起搏器植入作为反复发作或难治性心房内折返性心动过速的替代疗法。</td>\n",
       "      <td>o\\to\\to\\to\\to\\to\\to\\to\\to\\to\\to\\to\\to\\to\\to\\to...</td>\n",
       "    </tr>\n",
       "    <tr>\n",
       "      <th>1</th>\n",
       "      <td>（6）发作一次伴血流动力学损害的室性心动过速（ventriculartachycardia）...</td>\n",
       "      <td>o\\to\\to\\to\\to\\to\\to\\to\\to\\to\\to\\to\\to\\to\\to\\to...</td>\n",
       "    </tr>\n",
       "    <tr>\n",
       "      <th>2</th>\n",
       "      <td>4.第三类（1）无症状性WPW综合征患者，年龄小于5岁。</td>\n",
       "      <td>o\\to\\to\\to\\to\\to\\to\\to\\to\\to\\to\\to\\to\\to\\to\\to...</td>\n",
       "    </tr>\n",
       "    <tr>\n",
       "      <th>3</th>\n",
       "      <td>（2）室上性心动过速可用常规抗心律失常药物控制，年龄小于5岁。</td>\n",
       "      <td>o\\to\\to\\to\\to\\to\\to\\to\\to\\to\\to\\to\\to\\to\\to\\to...</td>\n",
       "    </tr>\n",
       "    <tr>\n",
       "      <th>4</th>\n",
       "      <td>（3）非持续性，不考虑为无休止性的阵发性室性心动过速（即一次监视数小时或任何一小时记录的心电...</td>\n",
       "      <td>o\\to\\to\\to\\to\\to\\to\\to\\to\\to\\to\\to\\to\\to\\to\\to...</td>\n",
       "    </tr>\n",
       "    <tr>\n",
       "      <th>...</th>\n",
       "      <td>...</td>\n",
       "      <td>...</td>\n",
       "    </tr>\n",
       "    <tr>\n",
       "      <th>29995</th>\n",
       "      <td>Finder报道17例原发性支气管软化，均在6个月内发病，以喘鸣为主，均有左主支气管受累，两...</td>\n",
       "      <td>o\\to\\to\\to\\to\\to\\to\\to\\to\\to\\to\\to\\to\\to\\to\\to...</td>\n",
       "    </tr>\n",
       "    <tr>\n",
       "      <th>29996</th>\n",
       "      <td>本症亦可继发于其他原因，如气管插管时间过长、损伤、肿瘤和淋巴结压迫等。</td>\n",
       "      <td>o\\to\\to\\to\\to\\to\\to\\to\\to\\to\\to\\to\\to\\to\\to\\to...</td>\n",
       "    </tr>\n",
       "    <tr>\n",
       "      <th>29997</th>\n",
       "      <td>本病以保守疗法为主，包括增强营养、适当补充维生素D及钙剂，保持呼吸道通畅。</td>\n",
       "      <td>o\\to\\to\\to\\to\\to\\to\\to\\to\\to\\to\\to\\to\\to\\to\\to...</td>\n",
       "    </tr>\n",
       "    <tr>\n",
       "      <th>29998</th>\n",
       "      <td>支气管软化者应注意体位引流，可应用色甘酸、溴化异丙托品，但应避免使用β受体激动剂。</td>\n",
       "      <td>o\\to\\to\\to\\to\\to\\to\\to\\to\\to\\to\\to\\to\\to\\to\\to...</td>\n",
       "    </tr>\n",
       "    <tr>\n",
       "      <th>29999</th>\n",
       "      <td>对严重呼吸困难、常规治疗无效、尤其是气管切开后不能拔管者，可采用大血管固定、气管悬吊术、气囊...</td>\n",
       "      <td>o\\ts-B\\ts-M\\ts-M\\ts-M\\ts-M\\ts-E\\to\\to\\to\\to\\to...</td>\n",
       "    </tr>\n",
       "  </tbody>\n",
       "</table>\n",
       "<p>30000 rows × 2 columns</p>\n",
       "</div>"
      ],
      "text/plain": [
       "                                                       0  \\\n",
       "0               （5）房室结消融和起搏器植入作为反复发作或难治性心房内折返性心动过速的替代疗法。   \n",
       "1      （6）发作一次伴血流动力学损害的室性心动过速（ventriculartachycardia）...   \n",
       "2                           4.第三类（1）无症状性WPW综合征患者，年龄小于5岁。   \n",
       "3                        （2）室上性心动过速可用常规抗心律失常药物控制，年龄小于5岁。   \n",
       "4      （3）非持续性，不考虑为无休止性的阵发性室性心动过速（即一次监视数小时或任何一小时记录的心电...   \n",
       "...                                                  ...   \n",
       "29995  Finder报道17例原发性支气管软化，均在6个月内发病，以喘鸣为主，均有左主支气管受累，两...   \n",
       "29996                本症亦可继发于其他原因，如气管插管时间过长、损伤、肿瘤和淋巴结压迫等。   \n",
       "29997              本病以保守疗法为主，包括增强营养、适当补充维生素D及钙剂，保持呼吸道通畅。   \n",
       "29998          支气管软化者应注意体位引流，可应用色甘酸、溴化异丙托品，但应避免使用β受体激动剂。   \n",
       "29999  对严重呼吸困难、常规治疗无效、尤其是气管切开后不能拔管者，可采用大血管固定、气管悬吊术、气囊...   \n",
       "\n",
       "                                                       1  \n",
       "0      o\\to\\to\\to\\to\\to\\to\\to\\to\\to\\to\\to\\to\\to\\to\\to...  \n",
       "1      o\\to\\to\\to\\to\\to\\to\\to\\to\\to\\to\\to\\to\\to\\to\\to...  \n",
       "2      o\\to\\to\\to\\to\\to\\to\\to\\to\\to\\to\\to\\to\\to\\to\\to...  \n",
       "3      o\\to\\to\\to\\to\\to\\to\\to\\to\\to\\to\\to\\to\\to\\to\\to...  \n",
       "4      o\\to\\to\\to\\to\\to\\to\\to\\to\\to\\to\\to\\to\\to\\to\\to...  \n",
       "...                                                  ...  \n",
       "29995  o\\to\\to\\to\\to\\to\\to\\to\\to\\to\\to\\to\\to\\to\\to\\to...  \n",
       "29996  o\\to\\to\\to\\to\\to\\to\\to\\to\\to\\to\\to\\to\\to\\to\\to...  \n",
       "29997  o\\to\\to\\to\\to\\to\\to\\to\\to\\to\\to\\to\\to\\to\\to\\to...  \n",
       "29998  o\\to\\to\\to\\to\\to\\to\\to\\to\\to\\to\\to\\to\\to\\to\\to...  \n",
       "29999  o\\ts-B\\ts-M\\ts-M\\ts-M\\ts-M\\ts-E\\to\\to\\to\\to\\to...  \n",
       "\n",
       "[30000 rows x 2 columns]"
      ]
     },
     "execution_count": 61,
     "metadata": {},
     "output_type": "execute_result"
    }
   ],
   "source": [
    "CMeEE_pd_file = pd.DataFrame([text_ls, label_index_ls]).T\n",
    "CMeEE_pd_file"
   ]
  },
  {
   "cell_type": "code",
   "execution_count": 62,
   "metadata": {
    "collapsed": false,
    "jupyter": {
     "outputs_hidden": false
    }
   },
   "outputs": [],
   "source": [
    "CMeEE_pd_file.columns = ['text','label_BMEO']\n",
    "save_pandas_file(CMeEE_pd_file,'CMeEE')"
   ]
  },
  {
   "cell_type": "code",
   "execution_count": 63,
   "metadata": {
    "collapsed": false,
    "jupyter": {
     "outputs_hidden": false
    }
   },
   "outputs": [],
   "source": [
    "file = pd.read_csv(\"dataset/data_train_test_dev/test_CMeEE_bmeo.csv\")\n",
    "texts, labels = file['text'], file['label_BMEO']"
   ]
  },
  {
   "cell_type": "code",
   "execution_count": 64,
   "metadata": {
    "collapsed": false,
    "jupyter": {
     "outputs_hidden": false
    }
   },
   "outputs": [
    {
     "data": {
      "text/html": [
       "<div>\n",
       "<style scoped>\n",
       "    .dataframe tbody tr th:only-of-type {\n",
       "        vertical-align: middle;\n",
       "    }\n",
       "\n",
       "    .dataframe tbody tr th {\n",
       "        vertical-align: top;\n",
       "    }\n",
       "\n",
       "    .dataframe thead th {\n",
       "        text-align: right;\n",
       "    }\n",
       "</style>\n",
       "<table border=\"1\" class=\"dataframe\">\n",
       "  <thead>\n",
       "    <tr style=\"text-align: right;\">\n",
       "      <th></th>\n",
       "      <th>text</th>\n",
       "      <th>label_BMEO</th>\n",
       "    </tr>\n",
       "  </thead>\n",
       "  <tbody>\n",
       "    <tr>\n",
       "      <th>0</th>\n",
       "      <td>根据病史、症状、鼻腔检查及鼻窦华氏位摄影等检查，即可做出诊断。</td>\n",
       "      <td>o\\to\\to\\to\\to\\to\\to\\to\\to\\to\\to\\to\\to\\to\\to\\to...</td>\n",
       "    </tr>\n",
       "    <tr>\n",
       "      <th>1</th>\n",
       "      <td>必要时进行CT检查。</td>\n",
       "      <td>o\\to\\to\\to\\to\\to\\to\\to\\to\\to</td>\n",
       "    </tr>\n",
       "    <tr>\n",
       "      <th>2</th>\n",
       "      <td>对慢性顽固性鼻窦炎患儿可采用内镜鼻窦手术治疗。</td>\n",
       "      <td>o\\to\\to\\to\\to\\to\\to\\to\\to\\to\\to\\to\\to\\to\\to\\to...</td>\n",
       "    </tr>\n",
       "    <tr>\n",
       "      <th>3</th>\n",
       "      <td>当人、畜接触疫水时，尾蚴很快（短至2～10秒钟）从皮肤或黏膜钻入体内，脱落尾部变为童虫。</td>\n",
       "      <td>o\\to\\to\\to\\to\\to\\to\\to\\to\\to\\to\\to\\to\\to\\to\\to...</td>\n",
       "    </tr>\n",
       "    <tr>\n",
       "      <th>4</th>\n",
       "      <td>潜伏期内40%～75%的患者于接触疫水部位出现尾蚴性皮炎。</td>\n",
       "      <td>o\\to\\to\\to\\to\\to\\to\\to\\to\\to\\to\\to\\to\\to\\to\\to...</td>\n",
       "    </tr>\n",
       "    <tr>\n",
       "      <th>...</th>\n",
       "      <td>...</td>\n",
       "      <td>...</td>\n",
       "    </tr>\n",
       "    <tr>\n",
       "      <th>295</th>\n",
       "      <td>Finder报道17例原发性支气管软化，均在6个月内发病，以喘鸣为主，均有左主支气管受累，两...</td>\n",
       "      <td>o\\to\\to\\to\\to\\to\\to\\to\\to\\to\\to\\to\\to\\to\\to\\to...</td>\n",
       "    </tr>\n",
       "    <tr>\n",
       "      <th>296</th>\n",
       "      <td>本症亦可继发于其他原因，如气管插管时间过长、损伤、肿瘤和淋巴结压迫等。</td>\n",
       "      <td>o\\to\\to\\to\\to\\to\\to\\to\\to\\to\\to\\to\\to\\to\\to\\to...</td>\n",
       "    </tr>\n",
       "    <tr>\n",
       "      <th>297</th>\n",
       "      <td>本病以保守疗法为主，包括增强营养、适当补充维生素D及钙剂，保持呼吸道通畅。</td>\n",
       "      <td>o\\to\\to\\to\\to\\to\\to\\to\\to\\to\\to\\to\\to\\to\\to\\to...</td>\n",
       "    </tr>\n",
       "    <tr>\n",
       "      <th>298</th>\n",
       "      <td>支气管软化者应注意体位引流，可应用色甘酸、溴化异丙托品，但应避免使用β受体激动剂。</td>\n",
       "      <td>o\\to\\to\\to\\to\\to\\to\\to\\to\\to\\to\\to\\to\\to\\to\\to...</td>\n",
       "    </tr>\n",
       "    <tr>\n",
       "      <th>299</th>\n",
       "      <td>对严重呼吸困难、常规治疗无效、尤其是气管切开后不能拔管者，可采用大血管固定、气管悬吊术、气囊...</td>\n",
       "      <td>o\\ts-B\\ts-M\\ts-M\\ts-M\\ts-M\\ts-E\\to\\to\\to\\to\\to...</td>\n",
       "    </tr>\n",
       "  </tbody>\n",
       "</table>\n",
       "<p>300 rows × 2 columns</p>\n",
       "</div>"
      ],
      "text/plain": [
       "                                                  text  \\\n",
       "0                      根据病史、症状、鼻腔检查及鼻窦华氏位摄影等检查，即可做出诊断。   \n",
       "1                                           必要时进行CT检查。   \n",
       "2                              对慢性顽固性鼻窦炎患儿可采用内镜鼻窦手术治疗。   \n",
       "3         当人、畜接触疫水时，尾蚴很快（短至2～10秒钟）从皮肤或黏膜钻入体内，脱落尾部变为童虫。   \n",
       "4                        潜伏期内40%～75%的患者于接触疫水部位出现尾蚴性皮炎。   \n",
       "..                                                 ...   \n",
       "295  Finder报道17例原发性支气管软化，均在6个月内发病，以喘鸣为主，均有左主支气管受累，两...   \n",
       "296                本症亦可继发于其他原因，如气管插管时间过长、损伤、肿瘤和淋巴结压迫等。   \n",
       "297              本病以保守疗法为主，包括增强营养、适当补充维生素D及钙剂，保持呼吸道通畅。   \n",
       "298          支气管软化者应注意体位引流，可应用色甘酸、溴化异丙托品，但应避免使用β受体激动剂。   \n",
       "299  对严重呼吸困难、常规治疗无效、尤其是气管切开后不能拔管者，可采用大血管固定、气管悬吊术、气囊...   \n",
       "\n",
       "                                            label_BMEO  \n",
       "0    o\\to\\to\\to\\to\\to\\to\\to\\to\\to\\to\\to\\to\\to\\to\\to...  \n",
       "1                         o\\to\\to\\to\\to\\to\\to\\to\\to\\to  \n",
       "2    o\\to\\to\\to\\to\\to\\to\\to\\to\\to\\to\\to\\to\\to\\to\\to...  \n",
       "3    o\\to\\to\\to\\to\\to\\to\\to\\to\\to\\to\\to\\to\\to\\to\\to...  \n",
       "4    o\\to\\to\\to\\to\\to\\to\\to\\to\\to\\to\\to\\to\\to\\to\\to...  \n",
       "..                                                 ...  \n",
       "295  o\\to\\to\\to\\to\\to\\to\\to\\to\\to\\to\\to\\to\\to\\to\\to...  \n",
       "296  o\\to\\to\\to\\to\\to\\to\\to\\to\\to\\to\\to\\to\\to\\to\\to...  \n",
       "297  o\\to\\to\\to\\to\\to\\to\\to\\to\\to\\to\\to\\to\\to\\to\\to...  \n",
       "298  o\\to\\to\\to\\to\\to\\to\\to\\to\\to\\to\\to\\to\\to\\to\\to...  \n",
       "299  o\\ts-B\\ts-M\\ts-M\\ts-M\\ts-M\\ts-E\\to\\to\\to\\to\\to...  \n",
       "\n",
       "[300 rows x 2 columns]"
      ]
     },
     "execution_count": 64,
     "metadata": {},
     "output_type": "execute_result"
    }
   ],
   "source": [
    "file"
   ]
  },
  {
   "cell_type": "code",
   "execution_count": 65,
   "metadata": {
    "collapsed": false,
    "jupyter": {
     "outputs_hidden": false
    }
   },
   "outputs": [
    {
     "data": {
      "text/plain": [
       "(31, 31)"
      ]
     },
     "execution_count": 65,
     "metadata": {},
     "output_type": "execute_result"
    }
   ],
   "source": [
    "len(list(texts[0])), len(labels[0].split('\\t'))"
   ]
  }
 ],
 "metadata": {
  "kernelspec": {
   "display_name": "Python 3 (ipykernel)",
   "language": "python",
   "name": "python3"
  },
  "language_info": {
   "codemirror_mode": {
    "name": "ipython",
    "version": 3
   },
   "file_extension": ".py",
   "mimetype": "text/x-python",
   "name": "python",
   "nbconvert_exporter": "python",
   "pygments_lexer": "ipython3",
   "version": "3.8.10"
  }
 },
 "nbformat": 4,
 "nbformat_minor": 4
}
