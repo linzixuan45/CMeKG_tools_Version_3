{
 "cells": [
  {
   "cell_type": "code",
   "execution_count": 35,
   "metadata": {
    "collapsed": true,
    "jupyter": {
     "outputs_hidden": true
    }
   },
   "outputs": [],
   "source": [
    "import pandas as pd\n",
    "import glob"
   ]
  },
  {
   "cell_type": "code",
   "execution_count": 36,
   "metadata": {
    "collapsed": false,
    "jupyter": {
     "outputs_hidden": false
    }
   },
   "outputs": [],
   "source": [
    "all_dev_path = glob.glob('dataset/data_train_test_dev/dev_*')\n",
    "all_train_path = glob.glob('dataset/data_train_test_dev/train_*')\n",
    "all_test_path = glob.glob('dataset/data_train_test_dev/test_*')\n",
    "test_csv = ['test_dataset.csv']"
   ]
  },
  {
   "cell_type": "code",
   "execution_count": 37,
   "metadata": {
    "collapsed": false,
    "jupyter": {
     "outputs_hidden": false
    }
   },
   "outputs": [
    {
     "data": {
      "text/plain": [
       "['dataset/data_train_test_dev\\\\train_CMedCausal_bmeo.csv',\n",
       " 'dataset/data_train_test_dev\\\\train_CMeEE_bmeo.csv',\n",
       " 'dataset/data_train_test_dev\\\\train_CMeIE_V2_bmeo.csv',\n",
       " 'dataset/data_train_test_dev\\\\train_hospital_bmeo.csv',\n",
       " 'dataset/data_train_test_dev\\\\train_IMCS_V2_bmeo.csv']"
      ]
     },
     "execution_count": 37,
     "metadata": {},
     "output_type": "execute_result"
    }
   ],
   "source": [
    "all_train_path"
   ]
  },
  {
   "cell_type": "code",
   "execution_count": 38,
   "metadata": {
    "collapsed": false,
    "jupyter": {
     "outputs_hidden": false
    }
   },
   "outputs": [],
   "source": [
    "def read_all_file(glob_dir_ls):\n",
    "    for i, path in enumerate(glob_dir_ls):\n",
    "        if i ==0:\n",
    "            pd_file = pd.read_csv(path)\n",
    "        else:\n",
    "            temp_file = pd.read_csv(path)\n",
    "            pd_file = pd.concat([pd_file,temp_file],axis=0)\n",
    "    return pd_file"
   ]
  },
  {
   "cell_type": "markdown",
   "metadata": {},
   "source": []
  },
  {
   "cell_type": "code",
   "execution_count": 39,
   "metadata": {
    "collapsed": false,
    "jupyter": {
     "outputs_hidden": false
    }
   },
   "outputs": [],
   "source": [
    "dir_path_ls = [all_dev_path,all_train_path,all_test_path]\n",
    "temp_ls = [test_csv]"
   ]
  },
  {
   "cell_type": "markdown",
   "metadata": {},
   "source": [
    "数据集验证是否有误"
   ]
  },
  {
   "cell_type": "code",
   "execution_count": 40,
   "metadata": {
    "collapsed": false,
    "jupyter": {
     "outputs_hidden": false
    }
   },
   "outputs": [],
   "source": [
    "for dir_path in dir_path_ls:\n",
    "    pd_file = read_all_file(dir_path)\n",
    "    pd_file.reset_index(drop=True,inplace=True)\n",
    "    texts, labels = pd_file['text'], pd_file['label_BMEO']\n",
    "    for i in range(len(texts)):\n",
    "        if type(labels[i]) != str:\n",
    "            label_str = labels[i].values[0]\n",
    "            text_str = texts[i].values[0]\n",
    "        else:\n",
    "            label_str = labels[i]\n",
    "            text_str = texts[i]\n",
    "        text, label = list(text_str), label_str.split('\\t')\n",
    "        assert len(text) == len(label)"
   ]
  }
 ],
 "metadata": {
  "kernelspec": {
   "display_name": "Python 3 (ipykernel)",
   "language": "python",
   "name": "python3"
  },
  "language_info": {
   "codemirror_mode": {
    "name": "ipython",
    "version": 3
   },
   "file_extension": ".py",
   "mimetype": "text/x-python",
   "name": "python",
   "nbconvert_exporter": "python",
   "pygments_lexer": "ipython3",
   "version": "3.8.10"
  }
 },
 "nbformat": 4,
 "nbformat_minor": 4
}
