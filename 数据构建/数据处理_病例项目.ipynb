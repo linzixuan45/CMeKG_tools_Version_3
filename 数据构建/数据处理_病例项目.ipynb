{
 "cells": [
  {
   "cell_type": "code",
   "execution_count": 1,
   "metadata": {},
   "outputs": [],
   "source": [
    "import pandas as pd\n",
    "import glob\n",
    "import numpy as np\n",
    "from tqdm import tqdm, trange\n",
    "import re"
   ]
  },
  {
   "cell_type": "code",
   "execution_count": 2,
   "metadata": {
    "collapsed": false,
    "jupyter": {
     "outputs_hidden": false
    }
   },
   "outputs": [],
   "source": [
    "\n",
    "def find_subtext_index(text, keywords):\n",
    "    \"\"\"\n",
    "\n",
    "    Args:\n",
    "        text: 出生后感染性肺炎可出现发热或体温不升\n",
    "        keywords: keywords = ['发热', '体温不升', '反应差']\n",
    "\n",
    "    Returns: [[11, 13]]\n",
    "\n",
    "    \"\"\"\n",
    "    index_ls = []\n",
    "    for keyword in keywords:\n",
    "        escaped_keyword = re.escape(keyword)\n",
    "        matches = re.finditer(escaped_keyword, text)\n",
    "        # matches = re.finditer(keyword, text)\n",
    "        indices = [match.start() for match in matches]\n",
    "        for value in indices:\n",
    "            index_ls.append([value, value+len(keyword)])\n",
    "\n",
    "    # 使用集合进行去重\n",
    "    unique_list = [list(x) for x in set(tuple(x) for x in index_ls)]\n",
    "    return unique_list\n",
    "\n",
    "\n",
    "def label_BMEO(text,label_index):\n",
    "    \"\"\"\n",
    "\n",
    "    Args:\n",
    "        text: 列表形式的文字  例如：['腺', '样', '体', '肥', '大', '是', '临', '床']\n",
    "        label_index: 标签对应的下标位置 [[1,3],[2,5]]\n",
    "    Returns:\n",
    "\n",
    "    \"\"\"\n",
    "    label  = np.zeros(len(text),dtype=np.int8).tolist()\n",
    "    for index in range(len(text)):\n",
    "        for label_index_period in label_index:\n",
    "            if index in range(label_index_period[0], label_index_period[1]+1):\n",
    "                label[index] = 1\n",
    "    text = pd.Series(text)\n",
    "    label = pd.Series(label)\n",
    "    new_pd = pd.DataFrame([text, label]).T\n",
    "    new_pd.columns = ['text','label']\n",
    "    new_pd.reset_index(inplace=True,drop=True)\n",
    "    labels = new_pd['label'].values\n",
    "    label_BMEO = []\n",
    "    for i in range(len(labels)):\n",
    "        three_values  = labels[i-1:i+2].tolist()\n",
    "        if len(three_values) == 0:\n",
    "            three_values = [0,labels[i],labels[i+1]]\n",
    "        if three_values == [0,1,1]:\n",
    "            label_BMEO.append('s-B')\n",
    "        elif three_values == [1,1,1]:\n",
    "            label_BMEO.append('s-M')\n",
    "        elif three_values == [1,1,0]:\n",
    "            label_BMEO.append('s-E')\n",
    "        else:\n",
    "            label_BMEO.append('o')\n",
    "    new_pd['label_BMEO'] = pd.Series(label_BMEO)\n",
    "    new_pd = new_pd[['text','label_BMEO']]\n",
    "    return new_pd['text'].values, new_pd['label_BMEO']\n",
    "\n",
    "\n",
    "\n",
    "def save_pandas_file(file_train,pandas_file_name='CMedCausal'):\n",
    "    file_train.columns = ['text','label_BMEO']\n",
    "    out_train = file_train[:int(len(file_train)*0.8)]\n",
    "    out_dev = file_train[int(len(file_train)*0.8):int(len(file_train) * 0.9)]\n",
    "    out_test = file_train[int(len(file_train)*0.9):]\n",
    "    out_train.to_csv(f'dataset/data_train_test_dev/train_{pandas_file_name}_bmeo.csv',index=False)\n",
    "    out_dev.to_csv(f'dataset/data_train_test_dev/dev_{pandas_file_name}_bmeo.csv',index=False)\n",
    "    out_test.to_csv(f'dataset/data_train_test_dev/test_{pandas_file_name}_bmeo.csv',index=False)\n"
   ]
  },
  {
   "cell_type": "code",
   "execution_count": 3,
   "metadata": {
    "collapsed": false,
    "jupyter": {
     "outputs_hidden": false
    }
   },
   "outputs": [
    {
     "name": "stderr",
     "output_type": "stream",
     "text": [
      "100%|██████████| 1198/1198 [00:10<00:00, 109.87it/s]\n"
     ]
    }
   ],
   "source": [
    "all_txt_original = glob.glob(\"dataset/data_1/*/*.txtoriginal.txt\")\n",
    "all_txt_original = list(set(all_txt_original))\n",
    "text_ls, label_index_ls = [],[]\n",
    "for path_ in tqdm(all_txt_original):\n",
    "    try:\n",
    "        original_txt = pd.read_csv(path_,header=None).values[0,0]\n",
    "        res = path_.split('.')\n",
    "        string_res = res[0]+\".\"+res[-1]\n",
    "        temp_file = pd.read_csv(string_res,delimiter='\\t',header=None)\n",
    "        temp_file = temp_file.loc[temp_file[3] == '症状和体征']\n",
    "        label_index = temp_file[[1,2]].values.tolist()\n",
    "        text = list(original_txt)\n",
    "        text,label_index = label_BMEO(text, label_index)\n",
    "        text_ls.append(\"\".join(text.tolist()))\n",
    "        label_index_ls.append(\"\\t\".join(label_index.tolist()))\n",
    "    except:\n",
    "        pass\n"
   ]
  },
  {
   "cell_type": "code",
   "execution_count": 5,
   "metadata": {
    "collapsed": false,
    "jupyter": {
     "outputs_hidden": false
    }
   },
   "outputs": [],
   "source": [
    "# save_pandas_file(CMedCausal_pd_file,'CMedCausal')\n",
    "hospital_pd_file.columns = ['text','label_BMEO']\n",
    "save_pandas_file(hospital_pd_file,'hospital')"
   ]
  },
  {
   "cell_type": "code",
   "execution_count": 4,
   "metadata": {
    "collapsed": false,
    "jupyter": {
     "outputs_hidden": false
    }
   },
   "outputs": [
    {
     "data": {
      "text/html": [
       "<div>\n",
       "<style scoped>\n",
       "    .dataframe tbody tr th:only-of-type {\n",
       "        vertical-align: middle;\n",
       "    }\n",
       "\n",
       "    .dataframe tbody tr th {\n",
       "        vertical-align: top;\n",
       "    }\n",
       "\n",
       "    .dataframe thead th {\n",
       "        text-align: right;\n",
       "    }\n",
       "</style>\n",
       "<table border=\"1\" class=\"dataframe\">\n",
       "  <thead>\n",
       "    <tr style=\"text-align: right;\">\n",
       "      <th></th>\n",
       "      <th>0</th>\n",
       "      <th>1</th>\n",
       "    </tr>\n",
       "  </thead>\n",
       "  <tbody>\n",
       "    <tr>\n",
       "      <th>0</th>\n",
       "      <td>患儿入院第6天，偶有咳嗽，无发热，食欲、睡眠尚可，二便正常。查体：T:  36.5℃，神志清...</td>\n",
       "      <td>o\\to\\to\\to\\to\\to\\to\\to\\to\\to\\ts-B\\ts-E\\to\\to\\t...</td>\n",
       "    </tr>\n",
       "    <tr>\n",
       "      <th>1</th>\n",
       "      <td>患者诉右侧阴囊疼痛不明显，无腹痛，腹胀，无尿频，尿急，无发热，饮食及二便正常。查体：神清，精...</td>\n",
       "      <td>o\\to\\to\\to\\to\\to\\to\\ts-B\\ts-E\\to\\to\\to\\to\\to\\t...</td>\n",
       "    </tr>\n",
       "    <tr>\n",
       "      <th>2</th>\n",
       "      <td>1.患者老年男性，慢性发病，病史1年。既往患高血压病史6年，前列腺炎病史6年，否认肝炎及结核...</td>\n",
       "      <td>o\\to\\to\\to\\to\\to\\to\\to\\to\\to\\to\\to\\to\\to\\to\\to...</td>\n",
       "    </tr>\n",
       "    <tr>\n",
       "      <th>3</th>\n",
       "      <td>患儿入院第10天，咳嗽、咳痰明显减轻，无发热。食欲、睡眠尚可，二便正常。查体：T:  36....</td>\n",
       "      <td>o\\to\\to\\to\\to\\to\\to\\to\\to\\ts-B\\ts-E\\to\\to\\to\\t...</td>\n",
       "    </tr>\n",
       "    <tr>\n",
       "      <th>4</th>\n",
       "      <td>患者无心悸气短，左侧肢体活动不灵减轻，查体：Bp130/80mmHg</td>\n",
       "      <td>o\\to\\to\\ts-B\\ts-M\\ts-M\\ts-E\\to\\to\\to\\to\\to\\to\\...</td>\n",
       "    </tr>\n",
       "    <tr>\n",
       "      <th>...</th>\n",
       "      <td>...</td>\n",
       "      <td>...</td>\n",
       "    </tr>\n",
       "    <tr>\n",
       "      <th>1161</th>\n",
       "      <td>患儿住院第6天，无发热，未见丘疹，偶有咳嗽。睡眠饮食尚可，二便正常。查体：T:  36.8℃...</td>\n",
       "      <td>o\\to\\to\\to\\to\\to\\to\\to\\to\\ts-B\\ts-E\\to\\to\\to\\t...</td>\n",
       "    </tr>\n",
       "    <tr>\n",
       "      <th>1162</th>\n",
       "      <td>6岁，生于河北省承德市，现住河北省承德市，主因外伤后头痛30分钟于2016-10-14入院。</td>\n",
       "      <td>o\\to\\to\\to\\to\\to\\to\\to\\to\\to\\to\\to\\to\\to\\to\\to...</td>\n",
       "    </tr>\n",
       "    <tr>\n",
       "      <th>1163</th>\n",
       "      <td>病例特点：1、患者老年女性75岁，既往有脑出血症病史2年，未遗留后遗症。慢性胃炎病史5 年间...</td>\n",
       "      <td>o\\to\\to\\to\\to\\to\\to\\to\\to\\to\\to\\to\\to\\to\\to\\to...</td>\n",
       "    </tr>\n",
       "    <tr>\n",
       "      <th>1164</th>\n",
       "      <td>男，4岁，河北省承德市双滦区御祥园1号楼4单元408人，主因咳嗽、咳痰1个月，加重伴发热3天...</td>\n",
       "      <td>o\\to\\to\\to\\to\\to\\to\\to\\to\\to\\to\\to\\to\\to\\to\\to...</td>\n",
       "    </tr>\n",
       "    <tr>\n",
       "      <th>1165</th>\n",
       "      <td>患者神志清，精神可。无头痛头晕，无发热抽搐，无咳嗽咳痰，饮食二便正常，无胸闷气短，无寒战。查...</td>\n",
       "      <td>o\\to\\to\\to\\to\\to\\to\\to\\to\\to\\to\\ts-B\\ts-M\\ts-M...</td>\n",
       "    </tr>\n",
       "  </tbody>\n",
       "</table>\n",
       "<p>1166 rows × 2 columns</p>\n",
       "</div>"
      ],
      "text/plain": [
       "                                                      0   \n",
       "0     患儿入院第6天，偶有咳嗽，无发热，食欲、睡眠尚可，二便正常。查体：T:  36.5℃，神志清...  \\\n",
       "1     患者诉右侧阴囊疼痛不明显，无腹痛，腹胀，无尿频，尿急，无发热，饮食及二便正常。查体：神清，精...   \n",
       "2     1.患者老年男性，慢性发病，病史1年。既往患高血压病史6年，前列腺炎病史6年，否认肝炎及结核...   \n",
       "3     患儿入院第10天，咳嗽、咳痰明显减轻，无发热。食欲、睡眠尚可，二便正常。查体：T:  36....   \n",
       "4                    患者无心悸气短，左侧肢体活动不灵减轻，查体：Bp130/80mmHg   \n",
       "...                                                 ...   \n",
       "1161  患儿住院第6天，无发热，未见丘疹，偶有咳嗽。睡眠饮食尚可，二便正常。查体：T:  36.8℃...   \n",
       "1162     6岁，生于河北省承德市，现住河北省承德市，主因外伤后头痛30分钟于2016-10-14入院。   \n",
       "1163  病例特点：1、患者老年女性75岁，既往有脑出血症病史2年，未遗留后遗症。慢性胃炎病史5 年间...   \n",
       "1164  男，4岁，河北省承德市双滦区御祥园1号楼4单元408人，主因咳嗽、咳痰1个月，加重伴发热3天...   \n",
       "1165  患者神志清，精神可。无头痛头晕，无发热抽搐，无咳嗽咳痰，饮食二便正常，无胸闷气短，无寒战。查...   \n",
       "\n",
       "                                                      1  \n",
       "0     o\\to\\to\\to\\to\\to\\to\\to\\to\\to\\ts-B\\ts-E\\to\\to\\t...  \n",
       "1     o\\to\\to\\to\\to\\to\\to\\ts-B\\ts-E\\to\\to\\to\\to\\to\\t...  \n",
       "2     o\\to\\to\\to\\to\\to\\to\\to\\to\\to\\to\\to\\to\\to\\to\\to...  \n",
       "3     o\\to\\to\\to\\to\\to\\to\\to\\to\\ts-B\\ts-E\\to\\to\\to\\t...  \n",
       "4     o\\to\\to\\ts-B\\ts-M\\ts-M\\ts-E\\to\\to\\to\\to\\to\\to\\...  \n",
       "...                                                 ...  \n",
       "1161  o\\to\\to\\to\\to\\to\\to\\to\\to\\ts-B\\ts-E\\to\\to\\to\\t...  \n",
       "1162  o\\to\\to\\to\\to\\to\\to\\to\\to\\to\\to\\to\\to\\to\\to\\to...  \n",
       "1163  o\\to\\to\\to\\to\\to\\to\\to\\to\\to\\to\\to\\to\\to\\to\\to...  \n",
       "1164  o\\to\\to\\to\\to\\to\\to\\to\\to\\to\\to\\to\\to\\to\\to\\to...  \n",
       "1165  o\\to\\to\\to\\to\\to\\to\\to\\to\\to\\to\\ts-B\\ts-M\\ts-M...  \n",
       "\n",
       "[1166 rows x 2 columns]"
      ]
     },
     "execution_count": 4,
     "metadata": {},
     "output_type": "execute_result"
    }
   ],
   "source": [
    "hospital_pd_file = pd.DataFrame([text_ls, label_index_ls]).T\n",
    "hospital_pd_file"
   ]
  },
  {
   "cell_type": "code",
   "execution_count": 3,
   "metadata": {},
   "outputs": [
    {
     "data": {
      "text/plain": [
       "12"
      ]
     },
     "execution_count": 3,
     "metadata": {},
     "output_type": "execute_result"
    }
   ],
   "source": []
  },
  {
   "cell_type": "code",
   "execution_count": null,
   "metadata": {},
   "outputs": [],
   "source": []
  }
 ],
 "metadata": {
  "kernelspec": {
   "display_name": "Python 3 (ipykernel)",
   "language": "python",
   "name": "python3"
  },
  "language_info": {
   "codemirror_mode": {
    "name": "ipython",
    "version": 3
   },
   "file_extension": ".py",
   "mimetype": "text/x-python",
   "name": "python",
   "nbconvert_exporter": "python",
   "pygments_lexer": "ipython3",
   "version": "3.8.10"
  }
 },
 "nbformat": 4,
 "nbformat_minor": 4
}
