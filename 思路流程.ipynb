{
 "cells": [
  {
   "cell_type": "markdown",
   "source": [
    "Q:\n",
    " 根据症状推理疾病\n",
    " 根据疾病反推可能的症状\n",
    "\n",
    "目前手上的模型：\n",
    "NER： 实体识别，可以分割出语句中的疾病名称和对应的症状，身体部位\n",
    "RE： 关系抽取，描述实体和对应症状的 关系\n",
    "\n",
    "给定句子，直接输出Embedding， Gan 根据Cos相似度 # 中文疾病名称归一化\n",
    "\n",
    "实体对齐\n",
    "pytorch 计算向量相似度：\n",
    "https://blog.csdn.net/rocking_struggling/article/details/127855028\n",
    "\n",
    "# 实体转为Embedding ，然后拉进相似度\n",
    "Bert 的词向量分布存在问题。\n",
    "Bert的词向量的分布，会受到词的频率，假定BERT句向量已经包含了足够的语义（比如可以重构出原句子），那么如果它用公式(1)\n",
    "算余弦值来比较句子相似度时表现不好，那么原因可能就是此时的句向量所属的坐标系并非标准正交基。\n",
    "\n",
    "https://zhuanlan.zhihu.com/p/374230720\n",
    "https://spaces.ac.cn/archives/8069"
   ],
   "metadata": {
    "collapsed": false
   }
  },
  {
   "cell_type": "code",
   "execution_count": 22,
   "metadata": {
    "collapsed": true
   },
   "outputs": [],
   "source": [
    "import numpy as np # 基于奇异值分解（SVD） 降维的相似度计算\n",
    "import scipy\n",
    "def compute_kernel_bias_svd(vecs, n_components=256):\n",
    "    \"\"\"\n",
    "    参考文献： https://spaces.ac.cn/archives/8069\n",
    "    SVD 奇异值分解：https://zhuanlan.zhihu.com/p/29846048 有误\n",
    "    https://www.zhihu.com/tardis/bd/art/26306568?source_id=1001 可学\n",
    "    计算kernel和bias\n",
    "    vecs.shape = [num_samples, embedding_size]，\n",
    "    最后的变换：y = (x + bias).dot(kernel)\n",
    "    \"\"\"\n",
    "    mu = vecs.mean(axis=0, keepdims=True)\n",
    "    cov = np.cov(vecs.T)\n",
    "    u, s, vh = np.linalg.svd(cov)\n",
    "    W = np.dot(u, np.diag(1 / np.sqrt(s)))\n",
    "    return W[:, :n_components], -mu\n",
    "\n",
    "def compute_kernel_bias(vecs):\n",
    "    \"\"\"计算kernel和bias\n",
    "    vecs.shape = [num_samples, embedding_size]，\n",
    "    最后的变换：y = (x + bias).dot(kernel)\n",
    "    \"\"\"\n",
    "    mu = vecs.mean(axis=0, keepdims=True)\n",
    "    cov = np.cov(vecs.T)\n",
    "    u, s, vh = np.linalg.svd(cov)\n",
    "    W = np.dot(u, np.diag(1 / np.sqrt(s)))\n",
    "    return W, -mu\n",
    "\n",
    "\n",
    "\n",
    "def compute_svd_torch(vecs, n_components=256):\n",
    "    \"\"\"\n",
    "    参考文献： https://spaces.ac.cn/archives/8069\n",
    "    SVD 奇异值分解：https://zhuanlan.zhihu.com/p/29846048 有误\n",
    "    https://www.zhihu.com/tardis/bd/art/26306568?source_id=1001 可学\n",
    "    计算kernel和bias\n",
    "    vecs.shape = [num_samples, embedding_size]，\n",
    "    最后的变换：y = (x + bias).dot(kernel)\n",
    "    \"\"\"\n",
    "    mu = vecs.mean(axis=0, keepdims=True)\n",
    "    cov = np.cov(vecs.T)\n",
    "    u, s, vh = np.linalg.svd(cov)\n",
    "    W = np.dot(u, np.diag(1 / np.sqrt(s)))\n",
    "    return W[:, :n_components], -mu"
   ]
  },
  {
   "cell_type": "code",
   "execution_count": 23,
   "outputs": [
    {
     "name": "stdout",
     "output_type": "stream",
     "text": [
      "tensor([0.9258, 1.0000])\n"
     ]
    }
   ],
   "source": [
    "import torch\n",
    "import torch.nn.functional as F\n",
    "\n",
    "# 定义两个张量\n",
    "a = torch.tensor([[1,2,3],[2,2,2]],dtype=torch.float32)\n",
    "b = torch.tensor([[3,3,3],[1,1,1]],dtype=torch.float32)\n",
    "\n",
    "# 计算cos相似度\n",
    "cos_sim = F.cosine_similarity(a, b)\n",
    "print(cos_sim) # tensor([0.0089, 0.4611, 0.1085])\n"
   ],
   "metadata": {
    "collapsed": false
   }
  },
  {
   "cell_type": "markdown",
   "source": [
    "torch.svd函数返回三个张量：左奇异向量（矩阵U），奇异值（一维张量S）和右奇异向量（矩阵V）的转置。"
   ],
   "metadata": {
    "collapsed": false
   }
  },
  {
   "cell_type": "code",
   "execution_count": 24,
   "outputs": [],
   "source": [
    "import torch\n",
    "\n"
   ],
   "metadata": {
    "collapsed": false
   }
  },
  {
   "cell_type": "code",
   "execution_count": 25,
   "outputs": [],
   "source": [
    "# vecs = a\n",
    "# mu = vecs.mean(dim=0, keepdims=True)\n",
    "# cov = torch_cov(vecs.T)\n",
    "# u, s, vh = torch.svd(cov)\n",
    "# sqrt_inv_s = torch.diag(1 / torch.sqrt(s))\n",
    "# W = torch.matmul(u, sqrt_inv_s)\n"
   ],
   "metadata": {
    "collapsed": false
   }
  },
  {
   "cell_type": "markdown",
   "source": [
    "基于文本生成的范式\n",
    "从疾病描述-》疾病实体\n",
    "\n",
    "训练逻辑思路-》\n",
    "1. 给定一个句子，句子 -》 embedding 向量 （对均值方差归一化） -》 latent 变换分布映射\n",
    "2. latent 转为到疾病实体向量空间\n",
    "3. 标签实体 -》 embedding 向量（均值方差归一化）\n",
    "4. 计算Cos相似度， 作为监督loss\n",
    "\n",
    "推理：\n",
    "句子-》embedding-》白化-》latent变换-》实体向量空间-》vocab》 生成文本\n",
    "可行性：偏低（无人做过）\n",
    "预估效果：高\n",
    "技术难度：高"
   ],
   "metadata": {
    "collapsed": false
   }
  },
  {
   "cell_type": "markdown",
   "source": [
    "症状预测疾病：\n",
    "https://github.com/anujdutt9/Disease-Prediction-from-Symptoms\n",
    "\n",
    "基于分类范式：\n",
    "逻辑-》\n",
    "1. 所有的症状构建为特征， 采用onehot 编码 # 采用bert embedding向量？\n",
    "2. 所有的疾病构建为类别， 采用onehot 编码\n",
    "3. 建立随机森林模型，初步判断，逻辑是否可行\n",
    "4. 后续可能可以转为深度学习方法\n",
    "\n",
    "推理：\n",
    "句子 -》提取出疾病症状-》分类\n",
    "可行性：高\n",
    "预估效果：可\n",
    "技术难度：中等偏下\n",
    "逻辑上存在的问题：\n",
    "1. 无法包含所有的疾病，只能预测数据集中存在的\n",
    "2. 可能存在过拟合的现象"
   ],
   "metadata": {
    "collapsed": false
   }
  },
  {
   "cell_type": "code",
   "execution_count": 26,
   "outputs": [
    {
     "name": "stdout",
     "output_type": "stream",
     "text": [
      "tensor([[4., 5., 6.]])\n",
      "tensor([[1., 1., 1.],\n",
      "        [1., 1., 1.],\n",
      "        [1., 1., 1.]])\n",
      "[[4. 5. 6.]]\n",
      "[[9. 9. 9.]\n",
      " [9. 9. 9.]\n",
      " [9. 9. 9.]]\n",
      "tensor([[-0.3333],\n",
      "        [-0.3333],\n",
      "        [-0.3333]])\n",
      "[[-0.11111111]\n",
      " [-0.11111111]\n",
      " [-0.11111111]]\n"
     ]
    },
    {
     "name": "stderr",
     "output_type": "stream",
     "text": [
      "C:\\Users\\11958\\AppData\\Local\\Temp\\ipykernel_11496\\3539555315.py:34: RuntimeWarning: divide by zero encountered in divide\n",
      "  W = np.dot(u, np.diag(1 / np.sqrt(s)))\n"
     ]
    }
   ],
   "source": [
    "\n",
    "import torch\n",
    "def torch_cov(matrix):\n",
    "    # 计算矩阵每一列的均值\n",
    "    mean = torch.mean(matrix, dim=0)\n",
    "    # 中心化矩阵（减去均值）\n",
    "    centered_matrix = matrix - mean\n",
    "    # 计算协方差矩阵\n",
    "    cov_matrix = torch.matmul(centered_matrix.t(), centered_matrix) / (centered_matrix.size(0) - 1)\n",
    "\n",
    "    return cov_matrix\n",
    "\n",
    "\n",
    "\n",
    "def compute_corrcoef(x, y):\n",
    "    \"\"\"Spearman相关系数\n",
    "    \"\"\"\n",
    "    return scipy.stats.spearmanr(x, y).correlation\n",
    "\n",
    "def compute_kernel_bias_svd(vecs, n_components=1):\n",
    "    \"\"\"\n",
    "    参考文献： https://spaces.ac.cn/archives/8069\n",
    "    SVD 奇异值分解：https://zhuanlan.zhihu.com/p/29846048 有误\n",
    "    https://www.zhihu.com/tardis/bd/art/26306568?source_id=1001 可学\n",
    "    计算kernel和bias\n",
    "    vecs.shape = [num_samples, embedding_size]，\n",
    "    最后的变换：y = (x + bias).dot(kernel)\n",
    "    \"\"\"\n",
    "    vecs = np.array(vecs,dtype=np.float32)\n",
    "    mu = vecs.mean(axis=0, keepdims=True)\n",
    "    print(mu)\n",
    "    cov = np.cov(vecs.T)\n",
    "    print(cov)\n",
    "    u, s, vh = np.linalg.svd(cov)\n",
    "    W = np.dot(u, np.diag(1 / np.sqrt(s)))\n",
    "    return W[:, :n_components], -mu\n",
    "\n",
    "def compute_svd_torch(vecs, n_components=1):\n",
    "    vecs = torch.tensor(vecs, dtype=torch.float32)\n",
    "    mu = torch.mean(vecs, dim=0, keepdim=True)\n",
    "    print(mu)\n",
    "    # cov = torch.matmul(vecs.t(), vecs) / vecs.size(0)\n",
    "    cov = torch_cov(vecs.T)\n",
    "    print(cov)\n",
    "    u, s, vh = torch.svd(cov)\n",
    "    sqrt_inv_s = torch.diag(1 / torch.sqrt(s))\n",
    "    W = torch.matmul(u, sqrt_inv_s)\n",
    "    W = W[:, :n_components]\n",
    "\n",
    "    # 返回结果\n",
    "    return W, -mu\n",
    "\n",
    "# 示例输入数据\n",
    "vecs = [[1, 2, 3], [4, 5, 6], [7, 8, 9]]\n",
    "\n",
    "# 调用compute_svd_torch函数计算结果\n",
    "W, bias = compute_svd_torch(vecs)\n",
    "W_np,bias_np = compute_kernel_bias_svd(vecs)\n",
    "print(W,)\n",
    "print(W_np)\n"
   ],
   "metadata": {
    "collapsed": false
   }
  }
 ],
 "metadata": {
  "kernelspec": {
   "display_name": "Python 3",
   "language": "python",
   "name": "python3"
  },
  "language_info": {
   "codemirror_mode": {
    "name": "ipython",
    "version": 2
   },
   "file_extension": ".py",
   "mimetype": "text/x-python",
   "name": "python",
   "nbconvert_exporter": "python",
   "pygments_lexer": "ipython2",
   "version": "2.7.6"
  }
 },
 "nbformat": 4,
 "nbformat_minor": 0
}
