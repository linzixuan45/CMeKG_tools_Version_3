{
 "cells": [
  {
   "cell_type": "markdown",
   "source": [
    "Q:\n",
    " 根据症状推理疾病\n",
    " 根据疾病反推可能的症状\n",
    "\n",
    "目前手上的模型：\n",
    "NER： 实体识别，可以分割出语句中的疾病名称和对应的症状，身体部位\n",
    "RE： 关系抽取，描述实体和对应症状的 关系\n",
    "\n",
    "给定句子，直接输出Embedding， Gan 根据Cos相似度 # 中文疾病名称归一化\n",
    "\n",
    "实体对齐\n",
    "pytorch 计算向量相似度：\n",
    "https://blog.csdn.net/rocking_struggling/article/details/127855028\n",
    "\n",
    "# 实体转为Embedding ，然后拉进相似度\n",
    "Bert 的词向量分布存在问题。\n",
    "Bert的词向量的分布，会受到词的频率，假定BERT句向量已经包含了足够的语义（比如可以重构出原句子），那么如果它用公式(1)\n",
    "算余弦值来比较句子相似度时表现不好，那么原因可能就是此时的句向量所属的坐标系并非标准正交基。\n",
    "\n",
    "https://zhuanlan.zhihu.com/p/374230720\n",
    "https://spaces.ac.cn/archives/8069"
   ],
   "metadata": {
    "collapsed": false
   }
  },
  {
   "cell_type": "code",
   "execution_count": null,
   "metadata": {
    "collapsed": true
   },
   "outputs": [],
   "source": [
    "import numpy as np # 基于奇异值分解（SVD） 降维的相似度计算\n",
    "def compute_kernel_bias_svd(vecs, n_components=256):\n",
    "    \"\"\"\n",
    "    参考文献： https://spaces.ac.cn/archives/8069\n",
    "    SVD 奇异值分解：https://zhuanlan.zhihu.com/p/29846048 有误\n",
    "    https://www.zhihu.com/tardis/bd/art/26306568?source_id=1001 可学\n",
    "    计算kernel和bias\n",
    "    vecs.shape = [num_samples, embedding_size]，\n",
    "    最后的变换：y = (x + bias).dot(kernel)\n",
    "    \"\"\"\n",
    "    mu = vecs.mean(axis=0, keepdims=True)\n",
    "    cov = np.cov(vecs.T)\n",
    "    u, s, vh = np.linalg.svd(cov)\n",
    "    W = np.dot(u, np.diag(1 / np.sqrt(s)))\n",
    "    return W[:, :n_components], -mu\n",
    "\n",
    "def compute_kernel_bias(vecs):\n",
    "    \"\"\"计算kernel和bias\n",
    "    vecs.shape = [num_samples, embedding_size]，\n",
    "    最后的变换：y = (x + bias).dot(kernel)\n",
    "    \"\"\"\n",
    "    mu = vecs.mean(axis=0, keepdims=True)\n",
    "    cov = np.cov(vecs.T)\n",
    "    u, s, vh = np.linalg.svd(cov)\n",
    "    W = np.dot(u, np.diag(1 / np.sqrt(s)))\n",
    "    return W, -mu"
   ]
  },
  {
   "cell_type": "markdown",
   "source": [
    "基于文本生成的范式\n",
    "从疾病描述-》疾病实体\n",
    "\n",
    "训练逻辑思路-》\n",
    "1. 给定一个句子，句子 -》 embedding 向量 （对均值方差归一化） -》 latent 变换分布映射\n",
    "2. latent 转为到疾病实体向量空间\n",
    "3. 标签实体 -》 embedding 向量（均值方差归一化）\n",
    "4. 计算Cos相似度， 作为监督loss\n",
    "\n",
    "推理：\n",
    "句子-》embedding-》白化-》latent变换-》实体向量空间-》vocab》 生成文本\n",
    "可行性：偏低（无人做过）\n",
    "预估效果：高\n",
    "技术难度：高"
   ],
   "metadata": {
    "collapsed": false
   }
  },
  {
   "cell_type": "markdown",
   "source": [
    "症状预测疾病：\n",
    "https://github.com/anujdutt9/Disease-Prediction-from-Symptoms\n",
    "\n",
    "基于分类范式：\n",
    "逻辑-》\n",
    "1. 所有的症状构建为特征， 采用onehot 编码 # 采用bert embedding向量？\n",
    "2. 所有的疾病构建为类别， 采用onehot 编码\n",
    "3. 建立随机森林模型，初步判断，逻辑是否可行\n",
    "4. 后续可能可以转为深度学习方法\n",
    "\n",
    "推理：\n",
    "句子 -》提取出疾病症状-》分类\n",
    "可行性：高\n",
    "预估效果：可\n",
    "技术难度：中等偏下\n",
    "逻辑上存在的问题：\n",
    "1. 无法包含所有的疾病，只能预测数据集中存在的\n",
    "2. 可能存在过拟合的现象"
   ],
   "metadata": {
    "collapsed": false
   }
  }
 ],
 "metadata": {
  "kernelspec": {
   "display_name": "Python 3",
   "language": "python",
   "name": "python3"
  },
  "language_info": {
   "codemirror_mode": {
    "name": "ipython",
    "version": 2
   },
   "file_extension": ".py",
   "mimetype": "text/x-python",
   "name": "python",
   "nbconvert_exporter": "python",
   "pygments_lexer": "ipython2",
   "version": "2.7.6"
  }
 },
 "nbformat": 4,
 "nbformat_minor": 0
}
