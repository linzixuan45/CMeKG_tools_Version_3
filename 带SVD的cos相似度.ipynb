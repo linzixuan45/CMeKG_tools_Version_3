{
 "cells": [
  {
   "cell_type": "code",
   "execution_count": 109,
   "metadata": {
    "collapsed": true
   },
   "outputs": [],
   "source": [
    "import torch\n",
    "import torch.nn.functional as F\n",
    "import numpy as np\n",
    "import scipy"
   ]
  },
  {
   "cell_type": "code",
   "execution_count": 110,
   "outputs": [],
   "source": [
    "def compute_kernel_bias_svd(vecs, n_components=1):\n",
    "    \"\"\"\n",
    "    参考文献： https://spaces.ac.cn/archives/8069\n",
    "    SVD 奇异值分解：https://zhuanlan.zhihu.com/p/29846048 有误\n",
    "    https://www.zhihu.com/tardis/bd/art/26306568?source_id=1001 可学\n",
    "    计算kernel和bias\n",
    "    vecs.shape = [num_samples, embedding_size]，\n",
    "    最后的变换：y = (x + bias).dot(kernel)\n",
    "    \"\"\"\n",
    "    vecs = np.array(vecs,dtype=np.float32)\n",
    "    mu = vecs.mean(axis=0, keepdims=True)\n",
    "    cov = np.cov(vecs.T)\n",
    "    u, s, vh = np.linalg.svd(cov)\n",
    "    W = np.dot(u, np.diag(1 / np.sqrt(s)))\n",
    "    return W[:, :n_components], -mu\n",
    "\n",
    "\n",
    "def torch_cov(matrix):\n",
    "    \"\"\"\n",
    "    matrix: 512,3\n",
    "    \"\"\"\n",
    "    # 计算矩阵每一列的均值\n",
    "    mean = torch.mean(matrix, dim=0) # [3]\n",
    "    # 中心化矩阵（减去均值）\n",
    "    centered_matrix = matrix - mean # 广播\n",
    "    # 计算协方差矩阵\n",
    "    cov_matrix = torch.matmul(centered_matrix.t(), centered_matrix) / (centered_matrix.size(0) - 1)\n",
    "\n",
    "    return cov_matrix\n",
    "\n",
    "\n",
    "def compute_svd_torch(vecs, n_components=1):\n",
    "    vecs = torch.tensor(vecs, dtype=torch.float32)\n",
    "    mu = torch.mean(vecs, dim=1, keepdim=True)\n",
    "\n",
    "    # cov = torch.matmul(vecs.t(), vecs) / vecs.size(0)\n",
    "    cov = torch_cov(vecs.T) # 3,3\n",
    "\n",
    "    u, s, vh = torch.svd(cov)\n",
    "    sqrt_inv_s = torch.diag(1 / torch.sqrt(s))\n",
    "    print(u.shape, sqrt_inv_s.shape)\n",
    "    W = torch.matmul(u, sqrt_inv_s)\n",
    "\n",
    "    W = W[:, :n_components]\n",
    "\n",
    "    # 返回结果\n",
    "    return W, -mu\n",
    "\n",
    "\n",
    "def compute_corrcoef(x, y):\n",
    "    \"\"\"Spearman相关系数\n",
    "    \"\"\"\n",
    "    return scipy.stats.spearmanr(x, y).correlation"
   ],
   "metadata": {
    "collapsed": false
   }
  },
  {
   "cell_type": "code",
   "execution_count": 111,
   "outputs": [
    {
     "name": "stdout",
     "output_type": "stream",
     "text": [
      "tensor([-0.0486, -0.0196, -0.0228])\n"
     ]
    }
   ],
   "source": [
    "\n",
    "# 定义两个张量\n",
    "torch.manual_seed(42)\n",
    "a = torch.randn((3,512))\n",
    "b = torch.randn((3,512))\n",
    "\n",
    "#\n",
    "# # 计算cos相似度\n",
    "cos_sim = F.cosine_similarity(a, b)\n",
    "print(cos_sim) # tensor([0.0089, 0.4611, 0.1085])\n",
    "\n",
    "def cosine_similarity_np_batch(a,b):\n",
    "    cos_sim_ls = []\n",
    "    for i, j in zip(a,b):\n",
    "        print(i.shape, j.shape)\n",
    "        temp = np.dot(i,j)/(norm(i)*norm(j))\n",
    "        cos_sim_ls.append(temp)\n",
    "    return np.array(cos_sim_ls)\n",
    "\n"
   ],
   "metadata": {
    "collapsed": false
   }
  },
  {
   "cell_type": "code",
   "execution_count": 112,
   "outputs": [
    {
     "name": "stdout",
     "output_type": "stream",
     "text": [
      "torch.Size([3, 3]) torch.Size([3, 3])\n",
      "torch.Size([3, 2])\n"
     ]
    },
    {
     "name": "stderr",
     "output_type": "stream",
     "text": [
      "C:\\Users\\11958\\AppData\\Local\\Temp\\ipykernel_22764\\2927357161.py:33: UserWarning: To copy construct from a tensor, it is recommended to use sourceTensor.clone().detach() or sourceTensor.clone().detach().requires_grad_(True), rather than torch.tensor(sourceTensor).\n",
      "  vecs = torch.tensor(vecs, dtype=torch.float32)\n"
     ]
    }
   ],
   "source": [
    "from sklearn.metrics.pairwise import cosine_similarity\n",
    "\n",
    "from numpy.linalg import norm\n",
    "\n",
    "\n",
    "# 调用compute_svd_torch函数计算结果\n",
    "W_a, bias_a = compute_svd_torch(a,n_components=2)\n",
    "# W_np_a,bias_np_a = compute_kernel_bias_svd(a,n_components=2)\n",
    "# W_b, bias_b = compute_svd_torch(b,n_components=2)\n",
    "# W_np_b,bias_np_b = compute_kernel_bias_svd(b,n_components=2)\n",
    "print(W_a.shape)\n",
    "# print(W_np_a.shape)\n",
    "# cos_sim_torch =  F.cosine_similarity(W_a, W_b)\n",
    "# cos_sim_np = cosine_similarity_np_batch(W_np_a,W_np_b)\n",
    "\n",
    "# cos_sim_np = np.dot(W_np_a,W_np_b)/(norm(W_np_b)*norm(W_np_b))\n",
    "\n",
    "\n",
    "# cos_sim_np"
   ],
   "metadata": {
    "collapsed": false
   }
  }
 ],
 "metadata": {
  "kernelspec": {
   "display_name": "Python 3",
   "language": "python",
   "name": "python3"
  },
  "language_info": {
   "codemirror_mode": {
    "name": "ipython",
    "version": 2
   },
   "file_extension": ".py",
   "mimetype": "text/x-python",
   "name": "python",
   "nbconvert_exporter": "python",
   "pygments_lexer": "ipython2",
   "version": "2.7.6"
  }
 },
 "nbformat": 4,
 "nbformat_minor": 0
}
